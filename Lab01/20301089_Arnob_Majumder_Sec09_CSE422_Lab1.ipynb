{
  "nbformat": 4,
  "nbformat_minor": 0,
  "metadata": {
    "colab": {
      "provenance": []
    },
    "kernelspec": {
      "name": "python3",
      "display_name": "Python 3"
    },
    "language_info": {
      "name": "python"
    }
  },
  "cells": [
    {
      "cell_type": "code",
      "source": [
        "input_file = open(\"Input_file.txt\", \"r\")\n",
        "heuristic = {}\n",
        "city = {}\n",
        "\n",
        "for line in input_file:\n",
        "    line = line.split()\n",
        "    heuristic[line[0]] = int(line[1])\n",
        "    destinations = []\n",
        "    for i in range(2, len(line), 2):\n",
        "        destinations.append((line[i], int(line[i + 1])))\n",
        "    city[line[0]] = destinations\n",
        "\n",
        "\n",
        "def A_star_search(start_node, stop_node):\n",
        "    open_list = {start_node}\n",
        "    closed_list = set([])\n",
        "    g = {start_node: 0}\n",
        "    parents = {start_node: start_node}\n",
        "\n",
        "    while len(open_list) > 0:\n",
        "        n = None\n",
        "        for v in open_list:\n",
        "            if n is None or g[v] + heuristic[v] < g[n] + heuristic[n]:\n",
        "                n = v\n",
        "        if n is None:\n",
        "            print(\"NO PATH FOUND\")\n",
        "            return None\n",
        "        if n == stop_node:\n",
        "            result_path = []\n",
        "            while parents[n] != n:\n",
        "                result_path.append(n)\n",
        "                n = parents[n]\n",
        "            result_path.append(start_node)\n",
        "            result_path.reverse()\n",
        "            print(\"Path: {}\".format(\" -> \".join(result_path)))\n",
        "            print(\"Total distance: {} km\".format(g[stop_node]))\n",
        "            return result_path\n",
        "        for (m, weight) in city[n]:\n",
        "            if m not in open_list and m not in closed_list:\n",
        "                open_list.add(m)\n",
        "                parents[m] = n\n",
        "                g[m] = g[n] + weight\n",
        "            else:\n",
        "                if g[m] > g[n] + weight:\n",
        "                    g[m] = g[n] + weight\n",
        "                    parents[m] = n\n",
        "                    if m in closed_list:\n",
        "                        closed_list.remove(m)\n",
        "                        open_list.add(m)\n",
        "        open_list.remove(n)\n",
        "        closed_list.add(n)\n",
        "\n",
        "    print(\"NO PATH FOUND\")\n",
        "    return None\n",
        "\n",
        "\n",
        "start = input(\"Start node: \")\n",
        "destination = input(\"Destination: \")\n",
        "A_star_search(start, destination)"
      ],
      "metadata": {
        "id": "r4kY9b_SSzj9"
      },
      "execution_count": null,
      "outputs": []
    }
  ]
}